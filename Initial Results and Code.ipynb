{
 "cells": [
  {
   "cell_type": "code",
   "execution_count": 1,
   "id": "70a212eb",
   "metadata": {},
   "outputs": [],
   "source": [
    "# Importing libraries\n",
    "import pandas as pd\n",
    "from sklearn.model_selection import train_test_split\n",
    "from sklearn.linear_model import LogisticRegression\n",
    "from sklearn.metrics import accuracy_score\n",
    "import warnings\n",
    "warnings.filterwarnings(\"ignore\")"
   ]
  },
  {
   "cell_type": "code",
   "execution_count": 2,
   "id": "de035d78",
   "metadata": {},
   "outputs": [],
   "source": [
    "#Uploading training data into the dataframe named as df\n",
    "train_data = pd.read_csv(\"C:/Users/arora/OneDrive/Desktop/CIND 820/Literature Review/Dataset/Training.csv\")\n",
    "test_data = pd.read_csv(\"C:/Users/arora/OneDrive/Desktop/CIND 820/Literature Review/Dataset/Testing (1).csv\")"
   ]
  },
  {
   "cell_type": "code",
   "execution_count": 3,
   "id": "3386ca9e",
   "metadata": {},
   "outputs": [
    {
     "data": {
      "text/plain": [
       "(4920, 134)"
      ]
     },
     "execution_count": 3,
     "metadata": {},
     "output_type": "execute_result"
    }
   ],
   "source": [
    "#checking the dimensions of the dataset (rows,column)\n",
    "train_data.shape"
   ]
  },
  {
   "cell_type": "code",
   "execution_count": 4,
   "id": "fde6ad2e",
   "metadata": {},
   "outputs": [
    {
     "data": {
      "text/plain": [
       "(42, 133)"
      ]
     },
     "execution_count": 4,
     "metadata": {},
     "output_type": "execute_result"
    }
   ],
   "source": [
    "test_data.shape"
   ]
  },
  {
   "cell_type": "markdown",
   "id": "1b261e30",
   "metadata": {},
   "source": [
    "# Data Cleaning"
   ]
  },
  {
   "cell_type": "code",
   "execution_count": 5,
   "id": "cee8f00e",
   "metadata": {},
   "outputs": [],
   "source": [
    "#drop the column which has NaN values in the dataset (Unnamed: 133)\n",
    "train_data.dropna(how=\"all\",axis=1,inplace=True)"
   ]
  },
  {
   "cell_type": "code",
   "execution_count": 6,
   "id": "a91df083",
   "metadata": {},
   "outputs": [
    {
     "data": {
      "text/plain": [
       "133"
      ]
     },
     "execution_count": 6,
     "metadata": {},
     "output_type": "execute_result"
    }
   ],
   "source": [
    "#checking the length of columns\n",
    "len(train_data.columns)"
   ]
  },
  {
   "cell_type": "markdown",
   "id": "1aa81203",
   "metadata": {},
   "source": [
    "# Feature Selection"
   ]
  },
  {
   "cell_type": "code",
   "execution_count": 7,
   "id": "f24ebf02",
   "metadata": {},
   "outputs": [
    {
     "name": "stdout",
     "output_type": "stream",
     "text": [
      "Selected Features:\n",
      "Index(['itching', 'skin_rash', 'chills', 'joint_pain', 'vomiting', 'fatigue',\n",
      "       'lethargy', 'cough', 'high_fever', 'sweating', 'headache',\n",
      "       'yellowish_skin', 'nausea', 'loss_of_appetite', 'abdominal_pain',\n",
      "       'diarrhoea', 'yellowing_of_eyes', 'chest_pain', 'excessive_hunger',\n",
      "       'irritability'],\n",
      "      dtype='object')\n"
     ]
    }
   ],
   "source": [
    "from sklearn.feature_selection import RFE\n",
    "from sklearn.linear_model import LogisticRegression\n",
    "\n",
    "\n",
    "# Separate the features (X) and target variable (y)\n",
    "X = test_data.drop('prognosis', axis=1)  \n",
    "y = test_data['prognosis']\n",
    "\n",
    "# Create an instance of the model you want to use for feature selection\n",
    "model = LogisticRegression()\n",
    "\n",
    "# Create an instance of the Recursive Feature Elimination (RFE) selector\n",
    "selector = RFE(model, n_features_to_select=20)  \n",
    "\n",
    "# Fit the selector on the data\n",
    "selector.fit(X, y)\n",
    "\n",
    "# Get the selected features\n",
    "selected_features = X.columns[selector.support_]\n",
    "\n",
    "# Print the selected features\n",
    "print(\"Selected Features:\")\n",
    "print(selected_features)\n"
   ]
  },
  {
   "cell_type": "markdown",
   "id": "3324367e",
   "metadata": {},
   "source": [
    "# Feature Importance"
   ]
  },
  {
   "cell_type": "code",
   "execution_count": 9,
   "id": "8bb3f054",
   "metadata": {},
   "outputs": [
    {
     "name": "stdout",
     "output_type": "stream",
     "text": [
      "Feature Importances:\n",
      "                   Feature  Importance\n",
      "97             muscle_pain    0.020256\n",
      "0                  itching    0.016930\n",
      "106         family_history    0.014914\n",
      "43       yellowing_of_eyes    0.014585\n",
      "98       altered_sensorium    0.014428\n",
      "..                     ...         ...\n",
      "69   swollen_blood_vessels    0.002070\n",
      "15             weight_gain    0.001532\n",
      "55              congestion    0.001302\n",
      "70     puffy_face_and_eyes    0.001025\n",
      "45          fluid_overload    0.000000\n",
      "\n",
      "[132 rows x 2 columns]\n"
     ]
    }
   ],
   "source": [
    "from sklearn.ensemble import RandomForestClassifier\n",
    "\n",
    "# Separate the features (X) and target variable (y)\n",
    "X = train_data.drop('prognosis', axis=1)  \n",
    "y = train_data['prognosis']\n",
    "\n",
    "# Create an instance of the Random Forest classifier\n",
    "model = RandomForestClassifier()\n",
    "\n",
    "# Train the Random Forest model\n",
    "model.fit(X, y)\n",
    "\n",
    "# Get feature importances\n",
    "importances = model.feature_importances_\n",
    "\n",
    "# Create a DataFrame with feature names and their importances\n",
    "feature_importances = pd.DataFrame({'Feature': X.columns, 'Importance': importances})\n",
    "\n",
    "# Sort the features by importance in descending order\n",
    "feature_importances = feature_importances.sort_values(by='Importance', ascending=False)\n",
    "\n",
    "# Print the feature importances\n",
    "print(\"Feature Importances:\")\n",
    "print(feature_importances)"
   ]
  },
  {
   "cell_type": "markdown",
   "id": "704a6453",
   "metadata": {},
   "source": [
    "# Train Test Split"
   ]
  },
  {
   "cell_type": "code",
   "execution_count": 10,
   "id": "99cdbc2b",
   "metadata": {},
   "outputs": [],
   "source": [
    "# Split the training data into features (X) and target variable (y)\n",
    "X_train = train_data.drop('prognosis', axis=1)  \n",
    "y_train = train_data['prognosis']\n",
    "\n",
    "# Split the testing data into features (X) and target variable (y)\n",
    "X_test = test_data.drop('prognosis', axis=1)  \n",
    "y_test = test_data['prognosis']"
   ]
  },
  {
   "cell_type": "markdown",
   "id": "516cb50a",
   "metadata": {},
   "source": [
    "#  Matthews Correlation Coefficient"
   ]
  },
  {
   "cell_type": "code",
   "execution_count": 11,
   "id": "00feb02a",
   "metadata": {},
   "outputs": [
    {
     "name": "stdout",
     "output_type": "stream",
     "text": [
      "Matthews Correlation Coefficient (MCC): 0.9761627906976744\n"
     ]
    }
   ],
   "source": [
    "from sklearn.metrics import matthews_corrcoef\n",
    "# Make predictions on the testing data\n",
    "predicted_labels = model.predict(X_test)\n",
    "\n",
    "# Obtain the ground truth labels for the testing data\n",
    "ground_truth_labels = y_test\n",
    "\n",
    "# Calculate the Matthews correlation coefficient\n",
    "mcc = matthews_corrcoef(ground_truth_labels, predicted_labels)\n",
    "\n",
    "# Print the MCC score\n",
    "print(\"Matthews Correlation Coefficient (MCC):\", mcc)"
   ]
  },
  {
   "cell_type": "markdown",
   "id": "64ba4855",
   "metadata": {},
   "source": [
    "# Random Forest Classifier"
   ]
  },
  {
   "cell_type": "code",
   "execution_count": 12,
   "id": "b8498421",
   "metadata": {},
   "outputs": [
    {
     "data": {
      "text/html": [
       "<style>#sk-container-id-1 {color: black;background-color: white;}#sk-container-id-1 pre{padding: 0;}#sk-container-id-1 div.sk-toggleable {background-color: white;}#sk-container-id-1 label.sk-toggleable__label {cursor: pointer;display: block;width: 100%;margin-bottom: 0;padding: 0.3em;box-sizing: border-box;text-align: center;}#sk-container-id-1 label.sk-toggleable__label-arrow:before {content: \"▸\";float: left;margin-right: 0.25em;color: #696969;}#sk-container-id-1 label.sk-toggleable__label-arrow:hover:before {color: black;}#sk-container-id-1 div.sk-estimator:hover label.sk-toggleable__label-arrow:before {color: black;}#sk-container-id-1 div.sk-toggleable__content {max-height: 0;max-width: 0;overflow: hidden;text-align: left;background-color: #f0f8ff;}#sk-container-id-1 div.sk-toggleable__content pre {margin: 0.2em;color: black;border-radius: 0.25em;background-color: #f0f8ff;}#sk-container-id-1 input.sk-toggleable__control:checked~div.sk-toggleable__content {max-height: 200px;max-width: 100%;overflow: auto;}#sk-container-id-1 input.sk-toggleable__control:checked~label.sk-toggleable__label-arrow:before {content: \"▾\";}#sk-container-id-1 div.sk-estimator input.sk-toggleable__control:checked~label.sk-toggleable__label {background-color: #d4ebff;}#sk-container-id-1 div.sk-label input.sk-toggleable__control:checked~label.sk-toggleable__label {background-color: #d4ebff;}#sk-container-id-1 input.sk-hidden--visually {border: 0;clip: rect(1px 1px 1px 1px);clip: rect(1px, 1px, 1px, 1px);height: 1px;margin: -1px;overflow: hidden;padding: 0;position: absolute;width: 1px;}#sk-container-id-1 div.sk-estimator {font-family: monospace;background-color: #f0f8ff;border: 1px dotted black;border-radius: 0.25em;box-sizing: border-box;margin-bottom: 0.5em;}#sk-container-id-1 div.sk-estimator:hover {background-color: #d4ebff;}#sk-container-id-1 div.sk-parallel-item::after {content: \"\";width: 100%;border-bottom: 1px solid gray;flex-grow: 1;}#sk-container-id-1 div.sk-label:hover label.sk-toggleable__label {background-color: #d4ebff;}#sk-container-id-1 div.sk-serial::before {content: \"\";position: absolute;border-left: 1px solid gray;box-sizing: border-box;top: 0;bottom: 0;left: 50%;z-index: 0;}#sk-container-id-1 div.sk-serial {display: flex;flex-direction: column;align-items: center;background-color: white;padding-right: 0.2em;padding-left: 0.2em;position: relative;}#sk-container-id-1 div.sk-item {position: relative;z-index: 1;}#sk-container-id-1 div.sk-parallel {display: flex;align-items: stretch;justify-content: center;background-color: white;position: relative;}#sk-container-id-1 div.sk-item::before, #sk-container-id-1 div.sk-parallel-item::before {content: \"\";position: absolute;border-left: 1px solid gray;box-sizing: border-box;top: 0;bottom: 0;left: 50%;z-index: -1;}#sk-container-id-1 div.sk-parallel-item {display: flex;flex-direction: column;z-index: 1;position: relative;background-color: white;}#sk-container-id-1 div.sk-parallel-item:first-child::after {align-self: flex-end;width: 50%;}#sk-container-id-1 div.sk-parallel-item:last-child::after {align-self: flex-start;width: 50%;}#sk-container-id-1 div.sk-parallel-item:only-child::after {width: 0;}#sk-container-id-1 div.sk-dashed-wrapped {border: 1px dashed gray;margin: 0 0.4em 0.5em 0.4em;box-sizing: border-box;padding-bottom: 0.4em;background-color: white;}#sk-container-id-1 div.sk-label label {font-family: monospace;font-weight: bold;display: inline-block;line-height: 1.2em;}#sk-container-id-1 div.sk-label-container {text-align: center;}#sk-container-id-1 div.sk-container {/* jupyter's `normalize.less` sets `[hidden] { display: none; }` but bootstrap.min.css set `[hidden] { display: none !important; }` so we also need the `!important` here to be able to override the default hidden behavior on the sphinx rendered scikit-learn.org. See: https://github.com/scikit-learn/scikit-learn/issues/21755 */display: inline-block !important;position: relative;}#sk-container-id-1 div.sk-text-repr-fallback {display: none;}</style><div id=\"sk-container-id-1\" class=\"sk-top-container\"><div class=\"sk-text-repr-fallback\"><pre>RandomForestClassifier(n_estimators=1000, n_jobs=-1, random_state=42)</pre><b>In a Jupyter environment, please rerun this cell to show the HTML representation or trust the notebook. <br />On GitHub, the HTML representation is unable to render, please try loading this page with nbviewer.org.</b></div><div class=\"sk-container\" hidden><div class=\"sk-item\"><div class=\"sk-estimator sk-toggleable\"><input class=\"sk-toggleable__control sk-hidden--visually\" id=\"sk-estimator-id-1\" type=\"checkbox\" checked><label for=\"sk-estimator-id-1\" class=\"sk-toggleable__label sk-toggleable__label-arrow\">RandomForestClassifier</label><div class=\"sk-toggleable__content\"><pre>RandomForestClassifier(n_estimators=1000, n_jobs=-1, random_state=42)</pre></div></div></div></div></div>"
      ],
      "text/plain": [
       "RandomForestClassifier(n_estimators=1000, n_jobs=-1, random_state=42)"
      ]
     },
     "execution_count": 12,
     "metadata": {},
     "output_type": "execute_result"
    }
   ],
   "source": [
    "from sklearn.ensemble import RandomForestClassifier\n",
    "model = RandomForestClassifier(n_estimators=1000, random_state=42,n_jobs=-1)\n",
    "model.fit(X_train, y_train)"
   ]
  },
  {
   "cell_type": "code",
   "execution_count": 13,
   "id": "26e39de3",
   "metadata": {},
   "outputs": [],
   "source": [
    "y_pred = model.predict(X_test)"
   ]
  },
  {
   "cell_type": "code",
   "execution_count": 14,
   "id": "1985c1b0",
   "metadata": {},
   "outputs": [
    {
     "name": "stdout",
     "output_type": "stream",
     "text": [
      "col_0                                    (vertigo) Paroymsal  Positional Vertigo  \\\n",
      "prognosis                                                                          \n",
      "(vertigo) Paroymsal  Positional Vertigo                                        1   \n",
      "AIDS                                                                           0   \n",
      "Acne                                                                           0   \n",
      "Alcoholic hepatitis                                                            0   \n",
      "Allergy                                                                        0   \n",
      "Arthritis                                                                      0   \n",
      "Bronchial Asthma                                                               0   \n",
      "Cervical spondylosis                                                           0   \n",
      "Chicken pox                                                                    0   \n",
      "Chronic cholestasis                                                            0   \n",
      "Common Cold                                                                    0   \n",
      "Dengue                                                                         0   \n",
      "Diabetes                                                                       0   \n",
      "Dimorphic hemmorhoids(piles)                                                   0   \n",
      "Drug Reaction                                                                  0   \n",
      "Fungal infection                                                               0   \n",
      "GERD                                                                           0   \n",
      "Gastroenteritis                                                                0   \n",
      "Heart attack                                                                   0   \n",
      "Hepatitis B                                                                    0   \n",
      "Hepatitis C                                                                    0   \n",
      "Hepatitis D                                                                    0   \n",
      "Hepatitis E                                                                    0   \n",
      "Hypertension                                                                   0   \n",
      "Hyperthyroidism                                                                0   \n",
      "Hypoglycemia                                                                   0   \n",
      "Hypothyroidism                                                                 0   \n",
      "Impetigo                                                                       0   \n",
      "Jaundice                                                                       0   \n",
      "Malaria                                                                        0   \n",
      "Migraine                                                                       0   \n",
      "Osteoarthristis                                                                0   \n",
      "Paralysis (brain hemorrhage)                                                   0   \n",
      "Peptic ulcer diseae                                                            0   \n",
      "Pneumonia                                                                      0   \n",
      "Psoriasis                                                                      0   \n",
      "Tuberculosis                                                                   0   \n",
      "Typhoid                                                                        0   \n",
      "Urinary tract infection                                                        0   \n",
      "Varicose veins                                                                 0   \n",
      "hepatitis A                                                                    0   \n",
      "\n",
      "col_0                                    AIDS  Acne  Alcoholic hepatitis  \\\n",
      "prognosis                                                                  \n",
      "(vertigo) Paroymsal  Positional Vertigo     0     0                    0   \n",
      "AIDS                                        1     0                    0   \n",
      "Acne                                        0     1                    0   \n",
      "Alcoholic hepatitis                         0     0                    1   \n",
      "Allergy                                     0     0                    0   \n",
      "Arthritis                                   0     0                    0   \n",
      "Bronchial Asthma                            0     0                    0   \n",
      "Cervical spondylosis                        0     0                    0   \n",
      "Chicken pox                                 0     0                    0   \n",
      "Chronic cholestasis                         0     0                    0   \n",
      "Common Cold                                 0     0                    0   \n",
      "Dengue                                      0     0                    0   \n",
      "Diabetes                                    0     0                    0   \n",
      "Dimorphic hemmorhoids(piles)                0     0                    0   \n",
      "Drug Reaction                               0     0                    0   \n",
      "Fungal infection                            0     0                    0   \n",
      "GERD                                        0     0                    0   \n",
      "Gastroenteritis                             0     0                    0   \n",
      "Heart attack                                0     0                    0   \n",
      "Hepatitis B                                 0     0                    0   \n",
      "Hepatitis C                                 0     0                    0   \n",
      "Hepatitis D                                 0     0                    0   \n",
      "Hepatitis E                                 0     0                    0   \n",
      "Hypertension                                0     0                    0   \n",
      "Hyperthyroidism                             0     0                    0   \n",
      "Hypoglycemia                                0     0                    0   \n",
      "Hypothyroidism                              0     0                    0   \n",
      "Impetigo                                    0     0                    0   \n",
      "Jaundice                                    0     0                    0   \n",
      "Malaria                                     0     0                    0   \n",
      "Migraine                                    0     0                    0   \n",
      "Osteoarthristis                             0     0                    0   \n",
      "Paralysis (brain hemorrhage)                0     0                    0   \n",
      "Peptic ulcer diseae                         0     0                    0   \n",
      "Pneumonia                                   0     0                    0   \n",
      "Psoriasis                                   0     0                    0   \n",
      "Tuberculosis                                0     0                    0   \n",
      "Typhoid                                     0     0                    0   \n",
      "Urinary tract infection                     0     0                    0   \n",
      "Varicose veins                              0     0                    0   \n",
      "hepatitis A                                 0     0                    0   \n",
      "\n",
      "col_0                                    Allergy  Arthritis  Bronchial Asthma  \\\n",
      "prognosis                                                                       \n",
      "(vertigo) Paroymsal  Positional Vertigo        0          0                 0   \n",
      "AIDS                                           0          0                 0   \n",
      "Acne                                           0          0                 0   \n",
      "Alcoholic hepatitis                            0          0                 0   \n",
      "Allergy                                        1          0                 0   \n",
      "Arthritis                                      0          1                 0   \n",
      "Bronchial Asthma                               0          0                 1   \n",
      "Cervical spondylosis                           0          0                 0   \n",
      "Chicken pox                                    0          0                 0   \n",
      "Chronic cholestasis                            0          0                 0   \n",
      "Common Cold                                    0          0                 0   \n",
      "Dengue                                         0          0                 0   \n",
      "Diabetes                                       0          0                 0   \n",
      "Dimorphic hemmorhoids(piles)                   0          0                 0   \n",
      "Drug Reaction                                  0          0                 0   \n",
      "Fungal infection                               0          0                 0   \n",
      "GERD                                           0          0                 0   \n",
      "Gastroenteritis                                0          0                 0   \n",
      "Heart attack                                   0          0                 0   \n",
      "Hepatitis B                                    0          0                 0   \n",
      "Hepatitis C                                    0          0                 0   \n",
      "Hepatitis D                                    0          0                 0   \n",
      "Hepatitis E                                    0          0                 0   \n",
      "Hypertension                                   0          0                 0   \n",
      "Hyperthyroidism                                0          0                 0   \n",
      "Hypoglycemia                                   0          0                 0   \n",
      "Hypothyroidism                                 0          0                 0   \n",
      "Impetigo                                       0          0                 0   \n",
      "Jaundice                                       0          0                 0   \n",
      "Malaria                                        0          0                 0   \n",
      "Migraine                                       0          0                 0   \n",
      "Osteoarthristis                                0          0                 0   \n",
      "Paralysis (brain hemorrhage)                   0          0                 0   \n",
      "Peptic ulcer diseae                            0          0                 0   \n",
      "Pneumonia                                      0          0                 0   \n",
      "Psoriasis                                      0          0                 0   \n",
      "Tuberculosis                                   0          0                 0   \n",
      "Typhoid                                        0          0                 0   \n",
      "Urinary tract infection                        0          0                 0   \n",
      "Varicose veins                                 0          0                 0   \n",
      "hepatitis A                                    0          0                 0   \n",
      "\n",
      "col_0                                    Cervical spondylosis  Chicken pox  \\\n",
      "prognosis                                                                    \n",
      "(vertigo) Paroymsal  Positional Vertigo                     0            0   \n",
      "AIDS                                                        0            0   \n",
      "Acne                                                        0            0   \n",
      "Alcoholic hepatitis                                         0            0   \n",
      "Allergy                                                     0            0   \n",
      "Arthritis                                                   0            0   \n",
      "Bronchial Asthma                                            0            0   \n",
      "Cervical spondylosis                                        1            0   \n",
      "Chicken pox                                                 0            1   \n",
      "Chronic cholestasis                                         0            0   \n",
      "Common Cold                                                 0            0   \n",
      "Dengue                                                      0            0   \n",
      "Diabetes                                                    0            0   \n",
      "Dimorphic hemmorhoids(piles)                                0            0   \n",
      "Drug Reaction                                               0            0   \n",
      "Fungal infection                                            0            1   \n",
      "GERD                                                        0            0   \n",
      "Gastroenteritis                                             0            0   \n",
      "Heart attack                                                0            0   \n",
      "Hepatitis B                                                 0            0   \n",
      "Hepatitis C                                                 0            0   \n",
      "Hepatitis D                                                 0            0   \n",
      "Hepatitis E                                                 0            0   \n",
      "Hypertension                                                0            0   \n",
      "Hyperthyroidism                                             0            0   \n",
      "Hypoglycemia                                                0            0   \n",
      "Hypothyroidism                                              0            0   \n",
      "Impetigo                                                    0            0   \n",
      "Jaundice                                                    0            0   \n",
      "Malaria                                                     0            0   \n",
      "Migraine                                                    0            0   \n",
      "Osteoarthristis                                             0            0   \n",
      "Paralysis (brain hemorrhage)                                0            0   \n",
      "Peptic ulcer diseae                                         0            0   \n",
      "Pneumonia                                                   0            0   \n",
      "Psoriasis                                                   0            0   \n",
      "Tuberculosis                                                0            0   \n",
      "Typhoid                                                     0            0   \n",
      "Urinary tract infection                                     0            0   \n",
      "Varicose veins                                              0            0   \n",
      "hepatitis A                                                 0            0   \n",
      "\n",
      "col_0                                    Chronic cholestasis  ...  \\\n",
      "prognosis                                                     ...   \n",
      "(vertigo) Paroymsal  Positional Vertigo                    0  ...   \n",
      "AIDS                                                       0  ...   \n",
      "Acne                                                       0  ...   \n",
      "Alcoholic hepatitis                                        0  ...   \n",
      "Allergy                                                    0  ...   \n",
      "Arthritis                                                  0  ...   \n",
      "Bronchial Asthma                                           0  ...   \n",
      "Cervical spondylosis                                       0  ...   \n",
      "Chicken pox                                                0  ...   \n",
      "Chronic cholestasis                                        1  ...   \n",
      "Common Cold                                                0  ...   \n",
      "Dengue                                                     0  ...   \n",
      "Diabetes                                                   0  ...   \n",
      "Dimorphic hemmorhoids(piles)                               0  ...   \n",
      "Drug Reaction                                              0  ...   \n",
      "Fungal infection                                           0  ...   \n",
      "GERD                                                       0  ...   \n",
      "Gastroenteritis                                            0  ...   \n",
      "Heart attack                                               0  ...   \n",
      "Hepatitis B                                                0  ...   \n",
      "Hepatitis C                                                0  ...   \n",
      "Hepatitis D                                                0  ...   \n",
      "Hepatitis E                                                0  ...   \n",
      "Hypertension                                               0  ...   \n",
      "Hyperthyroidism                                            0  ...   \n",
      "Hypoglycemia                                               0  ...   \n",
      "Hypothyroidism                                             0  ...   \n",
      "Impetigo                                                   0  ...   \n",
      "Jaundice                                                   0  ...   \n",
      "Malaria                                                    0  ...   \n",
      "Migraine                                                   0  ...   \n",
      "Osteoarthristis                                            0  ...   \n",
      "Paralysis (brain hemorrhage)                               0  ...   \n",
      "Peptic ulcer diseae                                        0  ...   \n",
      "Pneumonia                                                  0  ...   \n",
      "Psoriasis                                                  0  ...   \n",
      "Tuberculosis                                               0  ...   \n",
      "Typhoid                                                    0  ...   \n",
      "Urinary tract infection                                    0  ...   \n",
      "Varicose veins                                             0  ...   \n",
      "hepatitis A                                                0  ...   \n",
      "\n",
      "col_0                                    Osteoarthristis  \\\n",
      "prognosis                                                  \n",
      "(vertigo) Paroymsal  Positional Vertigo                0   \n",
      "AIDS                                                   0   \n",
      "Acne                                                   0   \n",
      "Alcoholic hepatitis                                    0   \n",
      "Allergy                                                0   \n",
      "Arthritis                                              0   \n",
      "Bronchial Asthma                                       0   \n",
      "Cervical spondylosis                                   0   \n",
      "Chicken pox                                            0   \n",
      "Chronic cholestasis                                    0   \n",
      "Common Cold                                            0   \n",
      "Dengue                                                 0   \n",
      "Diabetes                                               0   \n",
      "Dimorphic hemmorhoids(piles)                           0   \n",
      "Drug Reaction                                          0   \n",
      "Fungal infection                                       0   \n",
      "GERD                                                   0   \n",
      "Gastroenteritis                                        0   \n",
      "Heart attack                                           0   \n",
      "Hepatitis B                                            0   \n",
      "Hepatitis C                                            0   \n",
      "Hepatitis D                                            0   \n",
      "Hepatitis E                                            0   \n",
      "Hypertension                                           0   \n",
      "Hyperthyroidism                                        0   \n",
      "Hypoglycemia                                           0   \n",
      "Hypothyroidism                                         0   \n",
      "Impetigo                                               0   \n",
      "Jaundice                                               0   \n",
      "Malaria                                                0   \n",
      "Migraine                                               0   \n",
      "Osteoarthristis                                        1   \n",
      "Paralysis (brain hemorrhage)                           0   \n",
      "Peptic ulcer diseae                                    0   \n",
      "Pneumonia                                              0   \n",
      "Psoriasis                                              0   \n",
      "Tuberculosis                                           0   \n",
      "Typhoid                                                0   \n",
      "Urinary tract infection                                0   \n",
      "Varicose veins                                         0   \n",
      "hepatitis A                                            0   \n",
      "\n",
      "col_0                                    Paralysis (brain hemorrhage)  \\\n",
      "prognosis                                                               \n",
      "(vertigo) Paroymsal  Positional Vertigo                             0   \n",
      "AIDS                                                                0   \n",
      "Acne                                                                0   \n",
      "Alcoholic hepatitis                                                 0   \n",
      "Allergy                                                             0   \n",
      "Arthritis                                                           0   \n",
      "Bronchial Asthma                                                    0   \n",
      "Cervical spondylosis                                                0   \n",
      "Chicken pox                                                         0   \n",
      "Chronic cholestasis                                                 0   \n",
      "Common Cold                                                         0   \n",
      "Dengue                                                              0   \n",
      "Diabetes                                                            0   \n",
      "Dimorphic hemmorhoids(piles)                                        0   \n",
      "Drug Reaction                                                       0   \n",
      "Fungal infection                                                    0   \n",
      "GERD                                                                0   \n",
      "Gastroenteritis                                                     0   \n",
      "Heart attack                                                        0   \n",
      "Hepatitis B                                                         0   \n",
      "Hepatitis C                                                         0   \n",
      "Hepatitis D                                                         0   \n",
      "Hepatitis E                                                         0   \n",
      "Hypertension                                                        0   \n",
      "Hyperthyroidism                                                     0   \n",
      "Hypoglycemia                                                        0   \n",
      "Hypothyroidism                                                      0   \n",
      "Impetigo                                                            0   \n",
      "Jaundice                                                            0   \n",
      "Malaria                                                             0   \n",
      "Migraine                                                            0   \n",
      "Osteoarthristis                                                     0   \n",
      "Paralysis (brain hemorrhage)                                        1   \n",
      "Peptic ulcer diseae                                                 0   \n",
      "Pneumonia                                                           0   \n",
      "Psoriasis                                                           0   \n",
      "Tuberculosis                                                        0   \n",
      "Typhoid                                                             0   \n",
      "Urinary tract infection                                             0   \n",
      "Varicose veins                                                      0   \n",
      "hepatitis A                                                         0   \n",
      "\n",
      "col_0                                    Peptic ulcer diseae  Pneumonia  \\\n",
      "prognosis                                                                 \n",
      "(vertigo) Paroymsal  Positional Vertigo                    0          0   \n",
      "AIDS                                                       0          0   \n",
      "Acne                                                       0          0   \n",
      "Alcoholic hepatitis                                        0          0   \n",
      "Allergy                                                    0          0   \n",
      "Arthritis                                                  0          0   \n",
      "Bronchial Asthma                                           0          0   \n",
      "Cervical spondylosis                                       0          0   \n",
      "Chicken pox                                                0          0   \n",
      "Chronic cholestasis                                        0          0   \n",
      "Common Cold                                                0          0   \n",
      "Dengue                                                     0          0   \n",
      "Diabetes                                                   0          0   \n",
      "Dimorphic hemmorhoids(piles)                               0          0   \n",
      "Drug Reaction                                              0          0   \n",
      "Fungal infection                                           0          0   \n",
      "GERD                                                       0          0   \n",
      "Gastroenteritis                                            0          0   \n",
      "Heart attack                                               0          0   \n",
      "Hepatitis B                                                0          0   \n",
      "Hepatitis C                                                0          0   \n",
      "Hepatitis D                                                0          0   \n",
      "Hepatitis E                                                0          0   \n",
      "Hypertension                                               0          0   \n",
      "Hyperthyroidism                                            0          0   \n",
      "Hypoglycemia                                               0          0   \n",
      "Hypothyroidism                                             0          0   \n",
      "Impetigo                                                   0          0   \n",
      "Jaundice                                                   0          0   \n",
      "Malaria                                                    0          0   \n",
      "Migraine                                                   0          0   \n",
      "Osteoarthristis                                            0          0   \n",
      "Paralysis (brain hemorrhage)                               0          0   \n",
      "Peptic ulcer diseae                                        1          0   \n",
      "Pneumonia                                                  0          1   \n",
      "Psoriasis                                                  0          0   \n",
      "Tuberculosis                                               0          0   \n",
      "Typhoid                                                    0          0   \n",
      "Urinary tract infection                                    0          0   \n",
      "Varicose veins                                             0          0   \n",
      "hepatitis A                                                0          0   \n",
      "\n",
      "col_0                                    Psoriasis  Tuberculosis  Typhoid  \\\n",
      "prognosis                                                                   \n",
      "(vertigo) Paroymsal  Positional Vertigo          0             0        0   \n",
      "AIDS                                             0             0        0   \n",
      "Acne                                             0             0        0   \n",
      "Alcoholic hepatitis                              0             0        0   \n",
      "Allergy                                          0             0        0   \n",
      "Arthritis                                        0             0        0   \n",
      "Bronchial Asthma                                 0             0        0   \n",
      "Cervical spondylosis                             0             0        0   \n",
      "Chicken pox                                      0             0        0   \n",
      "Chronic cholestasis                              0             0        0   \n",
      "Common Cold                                      0             0        0   \n",
      "Dengue                                           0             0        0   \n",
      "Diabetes                                         0             0        0   \n",
      "Dimorphic hemmorhoids(piles)                     0             0        0   \n",
      "Drug Reaction                                    0             0        0   \n",
      "Fungal infection                                 0             0        0   \n",
      "GERD                                             0             0        0   \n",
      "Gastroenteritis                                  0             0        0   \n",
      "Heart attack                                     0             0        0   \n",
      "Hepatitis B                                      0             0        0   \n",
      "Hepatitis C                                      0             0        0   \n",
      "Hepatitis D                                      0             0        0   \n",
      "Hepatitis E                                      0             0        0   \n",
      "Hypertension                                     0             0        0   \n",
      "Hyperthyroidism                                  0             0        0   \n",
      "Hypoglycemia                                     0             0        0   \n",
      "Hypothyroidism                                   0             0        0   \n",
      "Impetigo                                         0             0        0   \n",
      "Jaundice                                         0             0        0   \n",
      "Malaria                                          0             0        0   \n",
      "Migraine                                         0             0        0   \n",
      "Osteoarthristis                                  0             0        0   \n",
      "Paralysis (brain hemorrhage)                     0             0        0   \n",
      "Peptic ulcer diseae                              0             0        0   \n",
      "Pneumonia                                        0             0        0   \n",
      "Psoriasis                                        1             0        0   \n",
      "Tuberculosis                                     0             1        0   \n",
      "Typhoid                                          0             0        1   \n",
      "Urinary tract infection                          0             0        0   \n",
      "Varicose veins                                   0             0        0   \n",
      "hepatitis A                                      0             0        0   \n",
      "\n",
      "col_0                                    Urinary tract infection  \\\n",
      "prognosis                                                          \n",
      "(vertigo) Paroymsal  Positional Vertigo                        0   \n",
      "AIDS                                                           0   \n",
      "Acne                                                           0   \n",
      "Alcoholic hepatitis                                            0   \n",
      "Allergy                                                        0   \n",
      "Arthritis                                                      0   \n",
      "Bronchial Asthma                                               0   \n",
      "Cervical spondylosis                                           0   \n",
      "Chicken pox                                                    0   \n",
      "Chronic cholestasis                                            0   \n",
      "Common Cold                                                    0   \n",
      "Dengue                                                         0   \n",
      "Diabetes                                                       0   \n",
      "Dimorphic hemmorhoids(piles)                                   0   \n",
      "Drug Reaction                                                  0   \n",
      "Fungal infection                                               0   \n",
      "GERD                                                           0   \n",
      "Gastroenteritis                                                0   \n",
      "Heart attack                                                   0   \n",
      "Hepatitis B                                                    0   \n",
      "Hepatitis C                                                    0   \n",
      "Hepatitis D                                                    0   \n",
      "Hepatitis E                                                    0   \n",
      "Hypertension                                                   0   \n",
      "Hyperthyroidism                                                0   \n",
      "Hypoglycemia                                                   0   \n",
      "Hypothyroidism                                                 0   \n",
      "Impetigo                                                       0   \n",
      "Jaundice                                                       0   \n",
      "Malaria                                                        0   \n",
      "Migraine                                                       0   \n",
      "Osteoarthristis                                                0   \n",
      "Paralysis (brain hemorrhage)                                   0   \n",
      "Peptic ulcer diseae                                            0   \n",
      "Pneumonia                                                      0   \n",
      "Psoriasis                                                      0   \n",
      "Tuberculosis                                                   0   \n",
      "Typhoid                                                        0   \n",
      "Urinary tract infection                                        1   \n",
      "Varicose veins                                                 0   \n",
      "hepatitis A                                                    0   \n",
      "\n",
      "col_0                                    Varicose veins  hepatitis A  \n",
      "prognosis                                                             \n",
      "(vertigo) Paroymsal  Positional Vertigo               0            0  \n",
      "AIDS                                                  0            0  \n",
      "Acne                                                  0            0  \n",
      "Alcoholic hepatitis                                   0            0  \n",
      "Allergy                                               0            0  \n",
      "Arthritis                                             0            0  \n",
      "Bronchial Asthma                                      0            0  \n",
      "Cervical spondylosis                                  0            0  \n",
      "Chicken pox                                           0            0  \n",
      "Chronic cholestasis                                   0            0  \n",
      "Common Cold                                           0            0  \n",
      "Dengue                                                0            0  \n",
      "Diabetes                                              0            0  \n",
      "Dimorphic hemmorhoids(piles)                          0            0  \n",
      "Drug Reaction                                         0            0  \n",
      "Fungal infection                                      0            0  \n",
      "GERD                                                  0            0  \n",
      "Gastroenteritis                                       0            0  \n",
      "Heart attack                                          0            0  \n",
      "Hepatitis B                                           0            0  \n",
      "Hepatitis C                                           0            0  \n",
      "Hepatitis D                                           0            0  \n",
      "Hepatitis E                                           0            0  \n",
      "Hypertension                                          0            0  \n",
      "Hyperthyroidism                                       0            0  \n",
      "Hypoglycemia                                          0            0  \n",
      "Hypothyroidism                                        0            0  \n",
      "Impetigo                                              0            0  \n",
      "Jaundice                                              0            0  \n",
      "Malaria                                               0            0  \n",
      "Migraine                                              0            0  \n",
      "Osteoarthristis                                       0            0  \n",
      "Paralysis (brain hemorrhage)                          0            0  \n",
      "Peptic ulcer diseae                                   0            0  \n",
      "Pneumonia                                             0            0  \n",
      "Psoriasis                                             0            0  \n",
      "Tuberculosis                                          0            0  \n",
      "Typhoid                                               0            0  \n",
      "Urinary tract infection                               0            0  \n",
      "Varicose veins                                        1            0  \n",
      "hepatitis A                                           0            1  \n",
      "\n",
      "[41 rows x 41 columns]\n",
      "                                         precision    recall  f1-score   support\n",
      "\n",
      "(vertigo) Paroymsal  Positional Vertigo       1.00      1.00      1.00         1\n",
      "                                   AIDS       1.00      1.00      1.00         1\n",
      "                                   Acne       1.00      1.00      1.00         1\n",
      "                    Alcoholic hepatitis       1.00      1.00      1.00         1\n",
      "                                Allergy       1.00      1.00      1.00         1\n",
      "                              Arthritis       1.00      1.00      1.00         1\n",
      "                       Bronchial Asthma       1.00      1.00      1.00         1\n",
      "                   Cervical spondylosis       1.00      1.00      1.00         1\n",
      "                            Chicken pox       0.50      1.00      0.67         1\n",
      "                    Chronic cholestasis       1.00      1.00      1.00         1\n",
      "                            Common Cold       1.00      1.00      1.00         1\n",
      "                                 Dengue       1.00      1.00      1.00         1\n",
      "                              Diabetes        1.00      1.00      1.00         1\n",
      "           Dimorphic hemmorhoids(piles)       1.00      1.00      1.00         1\n",
      "                          Drug Reaction       1.00      1.00      1.00         1\n",
      "                       Fungal infection       1.00      0.50      0.67         2\n",
      "                                   GERD       1.00      1.00      1.00         1\n",
      "                        Gastroenteritis       1.00      1.00      1.00         1\n",
      "                           Heart attack       1.00      1.00      1.00         1\n",
      "                            Hepatitis B       1.00      1.00      1.00         1\n",
      "                            Hepatitis C       1.00      1.00      1.00         1\n",
      "                            Hepatitis D       1.00      1.00      1.00         1\n",
      "                            Hepatitis E       1.00      1.00      1.00         1\n",
      "                          Hypertension        1.00      1.00      1.00         1\n",
      "                        Hyperthyroidism       1.00      1.00      1.00         1\n",
      "                           Hypoglycemia       1.00      1.00      1.00         1\n",
      "                         Hypothyroidism       1.00      1.00      1.00         1\n",
      "                               Impetigo       1.00      1.00      1.00         1\n",
      "                               Jaundice       1.00      1.00      1.00         1\n",
      "                                Malaria       1.00      1.00      1.00         1\n",
      "                               Migraine       1.00      1.00      1.00         1\n",
      "                        Osteoarthristis       1.00      1.00      1.00         1\n",
      "           Paralysis (brain hemorrhage)       1.00      1.00      1.00         1\n",
      "                    Peptic ulcer diseae       1.00      1.00      1.00         1\n",
      "                              Pneumonia       1.00      1.00      1.00         1\n",
      "                              Psoriasis       1.00      1.00      1.00         1\n",
      "                           Tuberculosis       1.00      1.00      1.00         1\n",
      "                                Typhoid       1.00      1.00      1.00         1\n",
      "                Urinary tract infection       1.00      1.00      1.00         1\n",
      "                         Varicose veins       1.00      1.00      1.00         1\n",
      "                            hepatitis A       1.00      1.00      1.00         1\n",
      "\n",
      "                               accuracy                           0.98        42\n",
      "                              macro avg       0.99      0.99      0.98        42\n",
      "                           weighted avg       0.99      0.98      0.98        42\n",
      "\n"
     ]
    }
   ],
   "source": [
    "from sklearn.metrics import classification_report\n",
    "\n",
    "# Classification Model Validation\n",
    "Confusion_Mat = pd.crosstab(y_test, y_pred)\n",
    "print(Confusion_Mat) # R, C format (Actual = testY, Predicted = Test_Pred)\n",
    "\n",
    "# Validation on Testset\n",
    "print(classification_report(y_test, y_pred)) # Actual, Predicted"
   ]
  },
  {
   "cell_type": "markdown",
   "id": "db4380c8",
   "metadata": {},
   "source": [
    "# Logistic Regression"
   ]
  },
  {
   "cell_type": "code",
   "execution_count": 15,
   "id": "2055b88b",
   "metadata": {},
   "outputs": [
    {
     "name": "stdout",
     "output_type": "stream",
     "text": [
      "Accuracy: 0.9761904761904762\n"
     ]
    }
   ],
   "source": [
    "from sklearn.linear_model import LogisticRegression\n",
    "modellog = LogisticRegression()\n",
    "modellog.fit(X_train, y_train)\n",
    "y_pred = model.predict(X_test)\n",
    "from sklearn.metrics import accuracy_score\n",
    "acc = accuracy_score(y_test, y_pred)\n",
    "print(\"Accuracy:\", acc)"
   ]
  },
  {
   "cell_type": "markdown",
   "id": "cfbc1a3d",
   "metadata": {},
   "source": [
    "# Support Vector Classifier (SVC)"
   ]
  },
  {
   "cell_type": "code",
   "execution_count": 16,
   "id": "68b1fea2",
   "metadata": {},
   "outputs": [
    {
     "name": "stdout",
     "output_type": "stream",
     "text": [
      "Accuracy:  1.0\n"
     ]
    }
   ],
   "source": [
    "from sklearn.svm import SVC\n",
    "modelsvc = SVC()\n",
    "modelsvc.fit(X_train, y_train)\n",
    "y_pred = modelsvc.predict(X_test)\n",
    "from sklearn.metrics import accuracy_score \n",
    "accuracy = accuracy_score(y_test, y_pred)\n",
    "print(\"Accuracy: \", accuracy)"
   ]
  },
  {
   "cell_type": "markdown",
   "id": "c6f30fb7",
   "metadata": {},
   "source": [
    "# K-Nearest Neighbors (KNN)"
   ]
  },
  {
   "cell_type": "code",
   "execution_count": 17,
   "id": "32cad5f2",
   "metadata": {},
   "outputs": [
    {
     "name": "stdout",
     "output_type": "stream",
     "text": [
      "Accuracy:  1.0\n"
     ]
    }
   ],
   "source": [
    "from sklearn.neighbors import KNeighborsClassifier\n",
    "modelknn = KNeighborsClassifier(n_neighbors=3)\n",
    "modelknn.fit(X_train, y_train)\n",
    "y_pred = modelknn.predict(X_test)\n",
    "from sklearn.metrics import accuracy_score #0.97\n",
    "accuracy = accuracy_score(y_test, y_pred)\n",
    "print(\"Accuracy: \", accuracy)"
   ]
  },
  {
   "cell_type": "code",
   "execution_count": 18,
   "id": "d2850024",
   "metadata": {},
   "outputs": [
    {
     "data": {
      "text/plain": [
       "(42, 132)"
      ]
     },
     "execution_count": 18,
     "metadata": {},
     "output_type": "execute_result"
    }
   ],
   "source": [
    "X_test.shape"
   ]
  },
  {
   "cell_type": "markdown",
   "id": "b170c135",
   "metadata": {},
   "source": [
    "# Gaussian Naive Bayes"
   ]
  },
  {
   "cell_type": "code",
   "execution_count": 19,
   "id": "5e33341d",
   "metadata": {},
   "outputs": [],
   "source": [
    "from sklearn.naive_bayes import GaussianNB\n",
    "from sklearn.metrics import accuracy_score\n",
    "nb = GaussianNB()\n",
    "nb.fit(X_train, y_train)\n",
    "y_pred = nb.predict(X_test)"
   ]
  },
  {
   "cell_type": "code",
   "execution_count": 20,
   "id": "c6783da4",
   "metadata": {},
   "outputs": [
    {
     "name": "stdout",
     "output_type": "stream",
     "text": [
      "Accuracy: 1.0\n"
     ]
    }
   ],
   "source": [
    "accuracy = accuracy_score(y_test, y_pred)\n",
    "print(f\"Accuracy: {accuracy}\")"
   ]
  },
  {
   "cell_type": "markdown",
   "id": "9c56f338",
   "metadata": {},
   "source": [
    "# Cross validation"
   ]
  },
  {
   "cell_type": "code",
   "execution_count": 21,
   "id": "3865290c",
   "metadata": {},
   "outputs": [
    {
     "name": "stdout",
     "output_type": "stream",
     "text": [
      "Fold 1: Accuracy = 1.0\n",
      "Fold 2: Accuracy = 1.0\n",
      "Fold 3: Accuracy = 1.0\n",
      "Fold 4: Accuracy = 1.0\n",
      "Fold 5: Accuracy = 1.0\n",
      "\n",
      "Mean Accuracy: 1.0\n",
      "Standard Deviation: 0.0\n"
     ]
    }
   ],
   "source": [
    "from sklearn.model_selection import StratifiedKFold\n",
    "from sklearn.model_selection import cross_val_score\n",
    "from sklearn import svm\n",
    "\n",
    "\n",
    "# X represents the features (symptoms) and y represents the target (prognosis)\n",
    "# Assign the features (symptoms) to X and the target (prognosis) to y\n",
    "X = train_data.iloc[:, :-1]  # Assuming the features are in columns except the last one\n",
    "y = train_data.iloc[:, -1]   # Assuming the target variable is in the last column\n",
    "\n",
    "# Create an instance of the classifier you want to evaluate\n",
    "clf = svm.SVC(kernel='linear', C=1, random_state=42)\n",
    "\n",
    "# Create an instance of StratifiedKFold with the desired number of folds\n",
    "k = 5\n",
    "skf = StratifiedKFold(n_splits=k)\n",
    "\n",
    "# Perform stratified k-fold cross-validation\n",
    "accuracy_scores = cross_val_score(clf, X, y, cv=skf)\n",
    "\n",
    "# Print the accuracy scores for each fold\n",
    "for fold, accuracy in enumerate(accuracy_scores):\n",
    "    print(f\"Fold {fold+1}: Accuracy = {accuracy}\")\n",
    "\n",
    "# Print the mean and standard deviation of the accuracy scores\n",
    "print(f\"\\nMean Accuracy: {accuracy_scores.mean()}\")\n",
    "print(f\"Standard Deviation: {accuracy_scores.std()}\")\n"
   ]
  },
  {
   "cell_type": "markdown",
   "id": "25218391",
   "metadata": {},
   "source": [
    "# Hyperparameter Tuning"
   ]
  },
  {
   "cell_type": "code",
   "execution_count": 21,
   "id": "e352873a",
   "metadata": {},
   "outputs": [
    {
     "name": "stdout",
     "output_type": "stream",
     "text": [
      "Best Hyperparameters: {'max_depth': None, 'min_samples_leaf': 1, 'min_samples_split': 2, 'n_estimators': 100}\n",
      "Accuracy: 0.9761904761904762\n"
     ]
    }
   ],
   "source": [
    "\n",
    "from sklearn.model_selection import GridSearchCV\n",
    "\n",
    "\n",
    "# Define the model\n",
    "model = RandomForestClassifier()\n",
    "\n",
    "# Define the hyperparameters to tune\n",
    "param_grid = {\n",
    "    'n_estimators': [100, 200, 300],  # Number of trees in the forest\n",
    "    'max_depth': [None, 5, 10],  # Maximum depth of the tree\n",
    "    'min_samples_split': [2, 5, 10],  # Minimum number of samples required to split an internal node\n",
    "    'min_samples_leaf': [1, 2, 4]  # Minimum number of samples required to be at a leaf node\n",
    "}\n",
    "\n",
    "# Perform grid search with cross-validation\n",
    "grid_search = GridSearchCV(model, param_grid, cv=5)\n",
    "grid_search.fit(X_train, y_train)\n",
    "\n",
    "# Get the best hyperparameters\n",
    "best_params = grid_search.best_params_\n",
    "\n",
    "# Train the model with the best hyperparameters\n",
    "best_model = RandomForestClassifier(**best_params)\n",
    "best_model.fit(X_train, y_train)\n",
    "\n",
    "# Evaluate the model on the testing set\n",
    "accuracy = best_model.score(X_test, y_test)\n",
    "\n",
    "# Print the best hyperparameters and accuracy\n",
    "print(\"Best Hyperparameters:\", best_params)\n",
    "print(\"Accuracy:\", accuracy)\n"
   ]
  }
 ],
 "metadata": {
  "kernelspec": {
   "display_name": "Python 3 (ipykernel)",
   "language": "python",
   "name": "python3"
  },
  "language_info": {
   "codemirror_mode": {
    "name": "ipython",
    "version": 3
   },
   "file_extension": ".py",
   "mimetype": "text/x-python",
   "name": "python",
   "nbconvert_exporter": "python",
   "pygments_lexer": "ipython3",
   "version": "3.10.9"
  }
 },
 "nbformat": 4,
 "nbformat_minor": 5
}
