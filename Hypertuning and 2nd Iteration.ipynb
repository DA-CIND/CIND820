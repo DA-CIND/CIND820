{
 "cells": [
  {
   "cell_type": "code",
   "execution_count": 5,
   "id": "a1358371",
   "metadata": {},
   "outputs": [],
   "source": [
    "# Importing libraries\n",
    "import pandas as pd\n",
    "from sklearn.model_selection import train_test_split\n",
    "from sklearn.linear_model import LogisticRegression\n",
    "from sklearn.metrics import accuracy_score\n",
    "import warnings\n",
    "warnings.filterwarnings(\"ignore\")"
   ]
  },
  {
   "cell_type": "code",
   "execution_count": 6,
   "id": "33c1258c",
   "metadata": {},
   "outputs": [],
   "source": [
    "#Uploading training data into the dataframe named as df\n",
    "train_data = pd.read_csv(\"C:/Users/arora/OneDrive/Desktop/CIND 820/Literature Review/Dataset/Training.csv\")\n",
    "test_data = pd.read_csv(\"C:/Users/arora/OneDrive/Desktop/CIND 820/Literature Review/Dataset/Testing (1).csv\")"
   ]
  },
  {
   "cell_type": "code",
   "execution_count": 7,
   "id": "49402452",
   "metadata": {},
   "outputs": [],
   "source": [
    "#drop the column which has NaN values in the dataset (Unnamed: 133)\n",
    "train_data.dropna(how=\"all\",axis=1,inplace=True)"
   ]
  },
  {
   "cell_type": "markdown",
   "id": "88898828",
   "metadata": {},
   "source": [
    "# Feature Selection(Recursive Feature Elimination)"
   ]
  },
  {
   "cell_type": "code",
   "execution_count": 4,
   "id": "1083c73a",
   "metadata": {},
   "outputs": [
    {
     "name": "stdout",
     "output_type": "stream",
     "text": [
      "Selected Features:\n",
      "Index(['itching', 'skin_rash', 'chills', 'joint_pain', 'vomiting', 'fatigue',\n",
      "       'lethargy', 'cough', 'high_fever', 'sweating', 'headache',\n",
      "       'yellowish_skin', 'nausea', 'loss_of_appetite', 'abdominal_pain',\n",
      "       'diarrhoea', 'yellowing_of_eyes', 'chest_pain', 'excessive_hunger',\n",
      "       'irritability'],\n",
      "      dtype='object')\n"
     ]
    }
   ],
   "source": [
    "from sklearn.feature_selection import RFE\n",
    "from sklearn.linear_model import LogisticRegression\n",
    "\n",
    "\n",
    "# Separate the features (X) and target variable (y)\n",
    "X = test_data.drop('prognosis', axis=1)  # Replace 'target_column' with the actual column name\n",
    "y = test_data['prognosis']\n",
    "\n",
    "# Create an instance of the model you want to use for feature selection\n",
    "model = LogisticRegression()\n",
    "\n",
    "# Create an instance of the Recursive Feature Elimination (RFE) selector\n",
    "selector = RFE(model, n_features_to_select=20)  # Specify the number of features to select\n",
    "\n",
    "# Fit the selector on the data\n",
    "selector.fit(X, y)\n",
    "\n",
    "# Get the selected features\n",
    "selected_features = X.columns[selector.support_]\n",
    "\n",
    "# Print the selected features\n",
    "print(\"Selected Features:\")\n",
    "print(selected_features)\n"
   ]
  },
  {
   "cell_type": "markdown",
   "id": "03be7be2",
   "metadata": {},
   "source": [
    "# Feature Importance"
   ]
  },
  {
   "cell_type": "code",
   "execution_count": 6,
   "id": "af97e055",
   "metadata": {},
   "outputs": [
    {
     "name": "stdout",
     "output_type": "stream",
     "text": [
      "Feature Importances:\n",
      "                            Feature  Importance\n",
      "97                      muscle_pain    0.017105\n",
      "41                       mild_fever    0.016536\n",
      "33                       dark_urine    0.015598\n",
      "0                           itching    0.015365\n",
      "11                         vomiting    0.014133\n",
      "106                  family_history    0.013750\n",
      "43                yellowing_of_eyes    0.013659\n",
      "34                           nausea    0.013458\n",
      "25                       high_fever    0.013240\n",
      "109           lack_of_concentration    0.013216\n",
      "14                          fatigue    0.012616\n",
      "86                     unsteadiness    0.012390\n",
      "99              red_spots_over_body    0.012038\n",
      "91         continuous_feel_of_urine    0.011936\n",
      "56                       chest_pain    0.011758\n",
      "58                  fast_heart_rate    0.011190\n",
      "98                altered_sensorium    0.011122\n",
      "6                        joint_pain    0.011098\n",
      "28                         sweating    0.011000\n",
      "5                            chills    0.010995\n",
      "40                        diarrhoea    0.010848\n",
      "102             dischromic _patches    0.010731\n",
      "39                   abdominal_pain    0.010671\n",
      "93                 internal_itching    0.010601\n",
      "31                         headache    0.010463\n",
      "35                 loss_of_appetite    0.010419\n",
      "80                  muscle_weakness    0.010330\n",
      "27                   breathlessness    0.010285\n",
      "19                      weight_loss    0.010202\n",
      "37                        back_pain    0.010157\n",
      "108                    rusty_sputum    0.010143\n",
      "107                   mucoid_sputum    0.009869\n",
      "36             pain_behind_the_eyes    0.009856\n",
      "29                      dehydration    0.009701\n",
      "87        weakness_of_one_body_side    0.009695\n",
      "113                            coma    0.009669\n",
      "118                 blood_in_sputum    0.009527\n",
      "13              spotting_ urination    0.009458\n",
      "101           abnormal_menstruation    0.009358\n",
      "63                        neck_pain    0.009262\n",
      "85                  loss_of_balance    0.009236\n",
      "7                      stomach_pain    0.009077\n",
      "89               bladder_discomfort    0.008878\n",
      "79                   hip_joint_pain    0.008637\n",
      "100                      belly_pain    0.008619\n",
      "83               movement_stiffness    0.008602\n",
      "2              nodal_skin_eruptions    0.008596\n",
      "96                     irritability    0.008517\n",
      "114                stomach_bleeding    0.008513\n",
      "92                 passage_of_gases    0.008409\n",
      "22                patches_in_throat    0.008404\n",
      "120                    palpitations    0.008201\n",
      "8                           acidity    0.008149\n",
      "122              pus_filled_pimples    0.008065\n",
      "129                         blister    0.008050\n",
      "46              swelling_of_stomach    0.007886\n",
      "24                            cough    0.007817\n",
      "26                      sunken_eyes    0.007659\n",
      "105                        polyuria    0.007595\n",
      "3               continuous_sneezing    0.007425\n",
      "38                     constipation    0.007408\n",
      "50                           phlegm    0.007378\n",
      "32                   yellowish_skin    0.007374\n",
      "131               yellow_crust_ooze    0.007366\n",
      "130            red_sore_around_nose    0.007287\n",
      "10                   muscle_wasting    0.007239\n",
      "112  receiving_unsterile_injections    0.007231\n",
      "111     receiving_blood_transfusion    0.007228\n",
      "48                          malaise    0.007192\n",
      "121                 painful_walking    0.007112\n",
      "47              swelled_lymph_nodes    0.007095\n",
      "78                        knee_pain    0.007007\n",
      "64                        dizziness    0.006922\n",
      "124                        scurring    0.006865\n",
      "94              toxic_look_(typhos)    0.006782\n",
      "75           extra_marital_contacts    0.006695\n",
      "9                  ulcers_on_tongue    0.006659\n",
      "95                       depression    0.006598\n",
      "127            small_dents_in_nails    0.006497\n",
      "103              watering_from_eyes    0.006425\n",
      "77                   slurred_speech    0.006412\n",
      "116  history_of_alcohol_consumption    0.006314\n",
      "12              burning_micturition    0.006161\n",
      "123                      blackheads    0.006091\n",
      "4                         shivering    0.006004\n",
      "104              increased_appetite    0.005935\n",
      "21                         lethargy    0.005873\n",
      "72                    brittle_nails    0.005861\n",
      "60              pain_in_anal_region    0.005854\n",
      "128              inflammatory_nails    0.005850\n",
      "1                         skin_rash    0.005783\n",
      "115           distention_of_abdomen    0.005780\n",
      "74                 excessive_hunger    0.005762\n",
      "20                     restlessness    0.005672\n",
      "68                     swollen_legs    0.005657\n",
      "126             silver_like_dusting    0.005612\n",
      "62               irritation_in_anus    0.005592\n",
      "110             visual_disturbances    0.005514\n",
      "66                         bruising    0.005486\n",
      "61                     bloody_stool    0.005462\n",
      "119         prominent_veins_on_calf    0.005436\n",
      "125                    skin_peeling    0.005416\n",
      "42                     yellow_urine    0.005372\n",
      "55                       congestion    0.005214\n",
      "30                      indigestion    0.004996\n",
      "44              acute_liver_failure    0.004807\n",
      "84               spinning_movements    0.004698\n",
      "57                weakness_in_limbs    0.004669\n",
      "53                   sinus_pressure    0.004645\n",
      "81                       stiff_neck    0.004581\n",
      "71                 enlarged_thyroid    0.004394\n",
      "51                throat_irritation    0.004322\n",
      "82                  swelling_joints    0.004210\n",
      "73              swollen_extremeties    0.004178\n",
      "59      pain_during_bowel_movements    0.003885\n",
      "67                          obesity    0.003674\n",
      "117                fluid_overload.1    0.003603\n",
      "65                           cramps    0.003544\n",
      "49     blurred_and_distorted_vision    0.003498\n",
      "52                  redness_of_eyes    0.003402\n",
      "23            irregular_sugar_level    0.003210\n",
      "76         drying_and_tingling_lips    0.003013\n",
      "16                          anxiety    0.002950\n",
      "88                    loss_of_smell    0.002695\n",
      "54                       runny_nose    0.002579\n",
      "18                      mood_swings    0.002571\n",
      "15                      weight_gain    0.002210\n",
      "90              foul_smell_of urine    0.001636\n",
      "70              puffy_face_and_eyes    0.001495\n",
      "69            swollen_blood_vessels    0.001482\n",
      "17             cold_hands_and_feets    0.000795\n",
      "45                   fluid_overload    0.000000\n"
     ]
    }
   ],
   "source": [
    "import numpy as np\n",
    "from sklearn.ensemble import RandomForestClassifier\n",
    "\n",
    "# Separate the features (X) and target variable (y)\n",
    "X = train_data.drop('prognosis', axis=1)  # Replace 'target_column' with the actual column name\n",
    "y = train_data['prognosis']\n",
    "\n",
    "# Create an instance of the Random Forest classifier\n",
    "model = RandomForestClassifier()\n",
    "\n",
    "# Train the Random Forest model\n",
    "model.fit(X, y)\n",
    "\n",
    "# Get feature importances\n",
    "importances = model.feature_importances_\n",
    "\n",
    "# Create a DataFrame with feature names and their importances\n",
    "feature_importances =  pd.DataFrame({'Feature': X.columns, 'Importance': importances})\n",
    "\n",
    "# Sort the features by importance in descending order\n",
    "feature_importances = feature_importances.sort_values(by='Importance', ascending=False)\n",
    "\n",
    "# Print the feature importances in a table format\n",
    "print('Feature Importances:')\n",
    "print(feature_importances.to_string())\n"
   ]
  },
  {
   "cell_type": "markdown",
   "id": "57af3baf",
   "metadata": {},
   "source": [
    "The feature \"fluid_overload\" has a feature importance of 0.0, which means that it is not a significant predictor of the\n",
    "disease. This is likely because fluid overload is a symptom of many different diseases, so it is not specific enough to\n",
    "be a reliable predictor."
   ]
  },
  {
   "cell_type": "code",
   "execution_count": 8,
   "id": "7f25c46f",
   "metadata": {},
   "outputs": [],
   "source": [
    "# Split the training data into features (X) and target variable (y)\n",
    "X_train = train_data.drop('prognosis', axis=1)  # Replace 'target_column' with the actual column name\n",
    "y_train = train_data['prognosis']\n",
    "\n",
    "# Split the testing data into features (X) and target variable (y)\n",
    "X_test = test_data.drop('prognosis', axis=1)  # Replace 'target_column' with the actual column name\n",
    "y_test = test_data['prognosis']"
   ]
  },
  {
   "cell_type": "markdown",
   "id": "5f278989",
   "metadata": {},
   "source": [
    "# Hyperparameter Tuning"
   ]
  },
  {
   "cell_type": "code",
   "execution_count": 29,
   "id": "f823a625",
   "metadata": {},
   "outputs": [
    {
     "name": "stdout",
     "output_type": "stream",
     "text": [
      "{'C': 0.1, 'penalty': 'l2'}\n"
     ]
    }
   ],
   "source": [
    "import numpy as np\n",
    "import pandas as pd\n",
    "from sklearn.model_selection import GridSearchCV\n",
    "from sklearn.linear_model import LogisticRegression\n",
    "\n",
    "\n",
    "\n",
    "# Create a grid of hyperparameters\n",
    "param_grid = {\n",
    "    \"C\": np.linspace(0.1, 10.0, 10),\n",
    "    \"penalty\": [\"l1\", \"l2\"],\n",
    "}\n",
    "\n",
    "# Create a logistic regression classifier\n",
    "clf = LogisticRegression()\n",
    "\n",
    "# Perform grid search\n",
    "grid_search = GridSearchCV(clf, param_grid, cv=5)\n",
    "grid_search.fit(X_train, y_train)\n",
    "\n",
    "# Print the best hyperparameters\n",
    "print(grid_search.best_params_)\n"
   ]
  },
  {
   "cell_type": "markdown",
   "id": "34298b09",
   "metadata": {},
   "source": [
    "# 2nd Iteration (LR)"
   ]
  },
  {
   "cell_type": "code",
   "execution_count": 15,
   "id": "30cac821",
   "metadata": {},
   "outputs": [
    {
     "name": "stdout",
     "output_type": "stream",
     "text": [
      "Accuracy: 1.0\n"
     ]
    }
   ],
   "source": [
    "import numpy as np\n",
    "import pandas as pd\n",
    "from sklearn.model_selection import GridSearchCV\n",
    "from sklearn.linear_model import LogisticRegression\n",
    "\n",
    "\n",
    "\n",
    "# Create a grid of hyperparameters\n",
    "param_grid = {\n",
    "    \"C\": np.linspace(0.1, 10.0, 10),\n",
    "    \"penalty\": [\"l1\", \"l2\"],\n",
    "}\n",
    "\n",
    "# Create a logistic regression classifier\n",
    "clf = LogisticRegression()\n",
    "\n",
    "# Perform grid search\n",
    "grid_search = GridSearchCV(clf, param_grid, cv=5)\n",
    "grid_search.fit(X_train, y_train)\n",
    "\n",
    "# Get the best hyperparameters\n",
    "best_params = grid_search.best_params_\n",
    "\n",
    "# Retrain the model with the best hyperparameters\n",
    "clf = LogisticRegression(**best_params)\n",
    "clf.fit(X_train, y_train)\n",
    "\n",
    "# Get the accuracy of the model\n",
    "accuracy_lr2 = clf.score(X_test, y_test)\n",
    "\n",
    "# Print the accuracy\n",
    "print(\"Accuracy:\", accuracy_lr2)\n"
   ]
  },
  {
   "cell_type": "markdown",
   "id": "4dd72739",
   "metadata": {},
   "source": [
    "# Hyperparameter Tuning Random Forest"
   ]
  },
  {
   "cell_type": "code",
   "execution_count": 12,
   "id": "e70963a9",
   "metadata": {},
   "outputs": [
    {
     "name": "stdout",
     "output_type": "stream",
     "text": [
      "Best Hyperparameters: {'max_depth': None, 'min_samples_leaf': 1, 'min_samples_split': 2, 'n_estimators': 100}\n",
      "Accuracy: 0.9761904761904762\n"
     ]
    }
   ],
   "source": [
    "from sklearn.model_selection import GridSearchCV\n",
    "\n",
    "\n",
    "# Define the model\n",
    "model = RandomForestClassifier()\n",
    "\n",
    "# Define the hyperparameters to tune\n",
    "param_grid = {\n",
    "    'n_estimators': [100, 200, 300],  # Number of trees in the forest\n",
    "    'max_depth': [None, 5, 10],  # Maximum depth of the tree\n",
    "    'min_samples_split': [2, 5, 10],  # Minimum number of samples required to split an internal node\n",
    "    'min_samples_leaf': [1, 2, 4]  # Minimum number of samples required to be at a leaf node\n",
    "}\n",
    "\n",
    "# Perform grid search with cross-validation\n",
    "grid_search = GridSearchCV(model, param_grid, cv=5)\n",
    "grid_search.fit(X_train, y_train)\n",
    "\n",
    "# Get the best hyperparameters\n",
    "best_params = grid_search.best_params_\n",
    "\n",
    "# Train the model with the best hyperparameters\n",
    "best_model = RandomForestClassifier(**best_params)\n",
    "best_model.fit(X_train, y_train)\n",
    "\n",
    "# Evaluate the model on the testing set\n",
    "accuracy = best_model.score(X_test, y_test)\n",
    "\n",
    "# Print the best hyperparameters and accuracy\n",
    "print(\"Best Hyperparameters:\", best_params)\n",
    "print(\"Accuracy:\", accuracy)\n"
   ]
  },
  {
   "cell_type": "code",
   "execution_count": 10,
   "id": "1a683f7c",
   "metadata": {},
   "outputs": [
    {
     "name": "stdout",
     "output_type": "stream",
     "text": [
      "Best Hyperparameters: {'max_depth': None, 'min_samples_leaf': 1, 'min_samples_split': 2, 'n_estimators': 50}\n",
      "Accuracy: 0.9761904761904762\n"
     ]
    }
   ],
   "source": [
    "from sklearn.model_selection import GridSearchCV\n",
    "from sklearn.ensemble import RandomForestClassifier\n",
    "\n",
    "# Define the model\n",
    "model = RandomForestClassifier()\n",
    "\n",
    "# Define the hyperparameters to tune\n",
    "param_grid = {\n",
    "    'n_estimators': [50, 100, 150],  # Number of trees in the forest\n",
    "    'max_depth': [None, 10, 20],  # Maximum depth of the tree\n",
    "    'min_samples_split': [2, 4, 8],  # Minimum number of samples required to split an internal node\n",
    "    'min_samples_leaf': [1, 2, 3]  # Minimum number of samples required to be at a leaf node\n",
    "}\n",
    "\n",
    "# Perform grid search with cross-validation\n",
    "grid_search = GridSearchCV(model, param_grid, cv=5)\n",
    "grid_search.fit(X_train, y_train)\n",
    "\n",
    "# Get the best hyperparameters\n",
    "best_params = grid_search.best_params_\n",
    "\n",
    "# Train the model with the best hyperparameters\n",
    "best_model = RandomForestClassifier(**best_params)\n",
    "best_model.fit(X_train, y_train)\n",
    "\n",
    "# Evaluate the model on the testing set\n",
    "accuracy = best_model.score(X_test, y_test)\n",
    "\n",
    "# Print the best hyperparameters and accuracy\n",
    "print(\"Best Hyperparameters:\", best_params)\n",
    "print(\"Accuracy:\", accuracy)\n"
   ]
  },
  {
   "cell_type": "markdown",
   "id": "705f74ed",
   "metadata": {},
   "source": [
    "# 2nd Iteration Random Forest"
   ]
  },
  {
   "cell_type": "code",
   "execution_count": 13,
   "id": "2af3746b",
   "metadata": {},
   "outputs": [
    {
     "name": "stdout",
     "output_type": "stream",
     "text": [
      "Accuracy: 1.0\n",
      "Precision: 1.0\n",
      "Recall: 1.0\n",
      "F1 score: 1.0\n"
     ]
    }
   ],
   "source": [
    "import numpy as np\n",
    "from sklearn.ensemble import RandomForestClassifier\n",
    "from sklearn.metrics import accuracy_score, precision_score, recall_score, f1_score\n",
    "\n",
    "# Convert the symptoms to binary values\n",
    "for col in train_data.columns:\n",
    "    if col != \"prognosis\":\n",
    "        train_data[col] = train_data[col].astype(\"int8\")\n",
    "\n",
    "# Create the random forest classifier\n",
    "rf = RandomForestClassifier(n_estimators=100, random_state=42)\n",
    "\n",
    "# Fit the model to the training data\n",
    "rf.fit(train_data.drop(\"prognosis\", axis=1), train_data[\"prognosis\"])\n",
    "\n",
    "# Predict the labels for the test data\n",
    "y_pred = rf.predict(train_data.drop(\"prognosis\", axis=1))\n",
    "\n",
    "# Calculate the accuracy, precision, recall, and F-1 score\n",
    "accuracy_rf2 = accuracy_score(train_data[\"prognosis\"], y_pred)\n",
    "precision = precision_score(train_data[\"prognosis\"], y_pred, average=\"macro\")\n",
    "recall = recall_score(train_data[\"prognosis\"], y_pred, average=\"macro\")\n",
    "f1 = f1_score(train_data[\"prognosis\"], y_pred, average=\"macro\")\n",
    "\n",
    "# Print the results\n",
    "print(\"Accuracy:\", accuracy_rf2)\n",
    "print(\"Precision:\", precision)\n",
    "print(\"Recall:\", recall)\n",
    "print(\"F1 score:\", f1)\n"
   ]
  },
  {
   "cell_type": "code",
   "execution_count": 13,
   "id": "c4a539ae",
   "metadata": {
    "scrolled": true
   },
   "outputs": [
    {
     "name": "stdout",
     "output_type": "stream",
     "text": [
      "{'C': 0.001, 'gamma': 0.001, 'kernel': 'linear'}\n"
     ]
    }
   ],
   "source": [
    "import numpy as np\n",
    "from sklearn.model_selection import GridSearchCV\n",
    "from sklearn.svm import SVC\n",
    "\n",
    "# Create the hyperparameters to tune\n",
    "param_grid = {\n",
    "    \"kernel\": [\"linear\", \"rbf\"],\n",
    "    \"C\": np.logspace(-3, 3, 10),\n",
    "    \"gamma\": np.logspace(-3, 3, 10),\n",
    "}\n",
    "\n",
    "# Create the SVM classifier\n",
    "svm = SVC()\n",
    "\n",
    "# Create the grid search object\n",
    "grid_search = GridSearchCV(svm, param_grid, cv=5)\n",
    "\n",
    "# Fit the grid search object to the training data\n",
    "grid_search.fit(X_train, y_train)\n",
    "\n",
    "# Print the best parameters\n",
    "print(grid_search.best_params_)\n"
   ]
  },
  {
   "cell_type": "markdown",
   "id": "a018e989",
   "metadata": {},
   "source": [
    "# 2nd Iteration SVC"
   ]
  },
  {
   "cell_type": "code",
   "execution_count": 12,
   "id": "8f102034",
   "metadata": {},
   "outputs": [
    {
     "name": "stdout",
     "output_type": "stream",
     "text": [
      "Accuracy: 1.0\n"
     ]
    }
   ],
   "source": [
    "import numpy as np\n",
    "from sklearn.svm import SVC\n",
    "\n",
    "# Create the SVC classifier\n",
    "svm = SVC(C=0.001, gamma=0.001, kernel='linear')\n",
    "\n",
    "# Fit the SVC classifier to the training data\n",
    "svm.fit(X_train, y_train)\n",
    "\n",
    "# Predict the labels for the test data\n",
    "y_pred = svm.predict(X_test)\n",
    "\n",
    "# Calculate the accuracy\n",
    "accuracy_svc2 = np.mean(y_pred == y_test)\n",
    "\n",
    "# Print the accuracy\n",
    "print(\"Accuracy:\", accuracy_svc2)\n"
   ]
  },
  {
   "cell_type": "code",
   "execution_count": 14,
   "id": "d556c87b",
   "metadata": {},
   "outputs": [
    {
     "name": "stdout",
     "output_type": "stream",
     "text": [
      "{'n_neighbors': 1, 'p': 1, 'weights': 'uniform'}\n"
     ]
    }
   ],
   "source": [
    "import numpy as np\n",
    "from sklearn.model_selection import GridSearchCV\n",
    "from sklearn.neighbors import KNeighborsClassifier\n",
    "\n",
    "# Create the hyperparameters to tune\n",
    "param_grid = {\n",
    "    \"n_neighbors\": np.arange(1, 100),\n",
    "    \"weights\": [\"uniform\", \"distance\"],\n",
    "    \"p\": [1, 2],\n",
    "}\n",
    "\n",
    "# Create the KNN classifier\n",
    "knn = KNeighborsClassifier()\n",
    "\n",
    "# Create the grid search object\n",
    "grid_search = GridSearchCV(knn, param_grid, cv=5)\n",
    "\n",
    "# Fit the grid search object to the training data\n",
    "grid_search.fit(X_train, y_train)\n",
    "\n",
    "# Print the best parameters\n",
    "print(grid_search.best_params_)\n"
   ]
  },
  {
   "cell_type": "markdown",
   "id": "62090a6f",
   "metadata": {},
   "source": [
    "# 2nd Iteration KNN"
   ]
  },
  {
   "cell_type": "code",
   "execution_count": 11,
   "id": "de991247",
   "metadata": {},
   "outputs": [
    {
     "name": "stdout",
     "output_type": "stream",
     "text": [
      "Accuracy: 1.0\n"
     ]
    }
   ],
   "source": [
    "import numpy as np\n",
    "from sklearn.neighbors import KNeighborsClassifier\n",
    "\n",
    "# Create the KNN classifier\n",
    "knn = KNeighborsClassifier(n_neighbors=1, p=1, weights='uniform')\n",
    "\n",
    "# Fit the classifier to the training data\n",
    "knn.fit(X_train, y_train)\n",
    "\n",
    "# Make predictions on the test data\n",
    "y_pred = knn.predict(X_test)\n",
    "\n",
    "# Calculate the accuracy\n",
    "accuracy_knn2 = np.mean(y_pred == y_test)\n",
    "\n",
    "print(\"Accuracy:\", accuracy_knn2)\n"
   ]
  },
  {
   "cell_type": "code",
   "execution_count": 10,
   "id": "6adc9e13",
   "metadata": {},
   "outputs": [
    {
     "name": "stdout",
     "output_type": "stream",
     "text": [
      "{'var_smoothing': 1e-09}\n"
     ]
    }
   ],
   "source": [
    "import numpy as np\n",
    "from sklearn.model_selection import GridSearchCV\n",
    "from sklearn.naive_bayes import GaussianNB\n",
    "\n",
    "# Create the hyperparameters to tune\n",
    "param_grid = {\n",
    "    \"var_smoothing\": np.logspace(-9, -2, 10),\n",
    "}\n",
    "\n",
    "# Create the naive Bayes classifier\n",
    "nb = GaussianNB()\n",
    "\n",
    "# Create the grid search object\n",
    "grid_search = GridSearchCV(nb, param_grid, cv=5)\n",
    "\n",
    "# Fit the grid search object to the training data\n",
    "grid_search.fit(X_train, y_train)\n",
    "\n",
    "# Print the best parameters\n",
    "print(grid_search.best_params_)\n"
   ]
  },
  {
   "cell_type": "markdown",
   "id": "77beb81d",
   "metadata": {},
   "source": [
    "# 2nd Iteration Naive Bayes"
   ]
  },
  {
   "cell_type": "code",
   "execution_count": 9,
   "id": "85167725",
   "metadata": {},
   "outputs": [
    {
     "name": "stdout",
     "output_type": "stream",
     "text": [
      "Accuracy: 1.0\n"
     ]
    }
   ],
   "source": [
    "import numpy as np\n",
    "from sklearn.naive_bayes import GaussianNB\n",
    "\n",
    "# Create the Gaussian naive Bayes classifier\n",
    "nb = GaussianNB(var_smoothing=1e-09)\n",
    "\n",
    "# Fit the classifier to the training data\n",
    "nb.fit(X_train, y_train)\n",
    "\n",
    "# Make predictions on the test data\n",
    "y_pred = nb.predict(X_test)\n",
    "\n",
    "# Calculate the accuracy\n",
    "accuracy_nb2 = np.mean(y_pred == y_test)\n",
    "\n",
    "print(\"Accuracy:\", accuracy_nb2)\n"
   ]
  },
  {
   "cell_type": "code",
   "execution_count": 16,
   "id": "0413d03e",
   "metadata": {},
   "outputs": [],
   "source": [
    "models2 = pd.DataFrame({\n",
    "    'Model':['Logistic Regression','Random Forest', 'KNN Regression',  'Support Vector','Naive Bayes' ],\n",
    "    'Accuracy' :[accuracy_lr2, accuracy_rf2, accuracy_knn2, accuracy_svc2, accuracy_nb2 ],\n",
    "})\n",
    "models2 = models2.sort_values(by='Accuracy', ascending=False)"
   ]
  },
  {
   "cell_type": "code",
   "execution_count": 17,
   "id": "1bcd89c3",
   "metadata": {},
   "outputs": [
    {
     "data": {
      "text/html": [
       "<div>\n",
       "<style scoped>\n",
       "    .dataframe tbody tr th:only-of-type {\n",
       "        vertical-align: middle;\n",
       "    }\n",
       "\n",
       "    .dataframe tbody tr th {\n",
       "        vertical-align: top;\n",
       "    }\n",
       "\n",
       "    .dataframe thead th {\n",
       "        text-align: right;\n",
       "    }\n",
       "</style>\n",
       "<table border=\"1\" class=\"dataframe\">\n",
       "  <thead>\n",
       "    <tr style=\"text-align: right;\">\n",
       "      <th></th>\n",
       "      <th>Model</th>\n",
       "      <th>Accuracy</th>\n",
       "    </tr>\n",
       "  </thead>\n",
       "  <tbody>\n",
       "    <tr>\n",
       "      <th>0</th>\n",
       "      <td>Logistic Regression</td>\n",
       "      <td>1.0</td>\n",
       "    </tr>\n",
       "    <tr>\n",
       "      <th>1</th>\n",
       "      <td>Random Forest</td>\n",
       "      <td>1.0</td>\n",
       "    </tr>\n",
       "    <tr>\n",
       "      <th>2</th>\n",
       "      <td>KNN Regression</td>\n",
       "      <td>1.0</td>\n",
       "    </tr>\n",
       "    <tr>\n",
       "      <th>3</th>\n",
       "      <td>Support Vector</td>\n",
       "      <td>1.0</td>\n",
       "    </tr>\n",
       "    <tr>\n",
       "      <th>4</th>\n",
       "      <td>Naive Bayes</td>\n",
       "      <td>1.0</td>\n",
       "    </tr>\n",
       "  </tbody>\n",
       "</table>\n",
       "</div>"
      ],
      "text/plain": [
       "                 Model  Accuracy\n",
       "0  Logistic Regression       1.0\n",
       "1        Random Forest       1.0\n",
       "2       KNN Regression       1.0\n",
       "3       Support Vector       1.0\n",
       "4          Naive Bayes       1.0"
      ]
     },
     "execution_count": 17,
     "metadata": {},
     "output_type": "execute_result"
    }
   ],
   "source": [
    "models2"
   ]
  },
  {
   "cell_type": "code",
   "execution_count": 18,
   "id": "1d973be0",
   "metadata": {},
   "outputs": [
    {
     "data": {
      "image/png": "[encoded data removed]",
      "text/plain": [
       "<Figure size 1500x900 with 1 Axes>"
      ]
     },
     "metadata": {},
     "output_type": "display_data"
    }
   ],
   "source": [
    "import matplotlib.pyplot as plt \n",
    "import seaborn as sns\n",
    "fig = plt.figure(figsize=(15,9))\n",
    "\n",
    "ax = sns.barplot(data=models2, \n",
    "                 y='Model', \n",
    "                 x='Accuracy',\n",
    "                 palette = 'Oranges_r')\n",
    "\n",
    "ax.figure.suptitle('Performance of Models -- Second Iteration',y=0.91, size = 16, color = 'black', weight='bold');\n",
    "\n",
    "plt.xlabel('Accuracy')\n",
    "plt.ylabel('Models')\n",
    "plt.axvline(x = 0.8, ymin = 0, ymax = 1,\n",
    "            linewidth = 2, linestyle =\":\",\n",
    "            color ='#cf7849');\n",
    "     "
   ]
  },
  {
   "cell_type": "markdown",
   "id": "1d407890",
   "metadata": {},
   "source": [
    "# AUC-ROC Curve"
   ]
  },
  {
   "cell_type": "markdown",
   "id": "8628f150",
   "metadata": {},
   "source": [
    "The AUC-ROC curve is commonly used for binary classification problems. However, it can be adapted to multiclass classification by using a one-vs-rest approach or by computing the average AUC-ROC for each class."
   ]
  },
  {
   "cell_type": "code",
   "execution_count": 24,
   "id": "5c4da37e",
   "metadata": {},
   "outputs": [
    {
     "name": "stdout",
     "output_type": "stream",
     "text": [
      "Class: (vertigo) Paroymsal  Positional Vertigo\t AUC-ROC Score: 1.0\n",
      "Class: AIDS\t AUC-ROC Score: 1.0\n",
      "Class: Acne\t AUC-ROC Score: 1.0\n",
      "Class: Alcoholic hepatitis\t AUC-ROC Score: 1.0\n",
      "Class: Allergy\t AUC-ROC Score: 1.0\n",
      "Class: Arthritis\t AUC-ROC Score: 1.0\n",
      "Class: Bronchial Asthma\t AUC-ROC Score: 1.0\n",
      "Class: Cervical spondylosis\t AUC-ROC Score: 1.0\n",
      "Class: Chicken pox\t AUC-ROC Score: 1.0\n",
      "Class: Chronic cholestasis\t AUC-ROC Score: 1.0\n",
      "Class: Common Cold\t AUC-ROC Score: 1.0\n",
      "Class: Dengue\t AUC-ROC Score: 1.0\n",
      "Class: Diabetes \t AUC-ROC Score: 1.0\n",
      "Class: Dimorphic hemmorhoids(piles)\t AUC-ROC Score: 1.0\n",
      "Class: Drug Reaction\t AUC-ROC Score: 1.0\n",
      "Class: Fungal infection\t AUC-ROC Score: 1.0\n",
      "Class: GERD\t AUC-ROC Score: 1.0\n",
      "Class: Gastroenteritis\t AUC-ROC Score: 1.0\n",
      "Class: Heart attack\t AUC-ROC Score: 1.0\n",
      "Class: Hepatitis B\t AUC-ROC Score: 1.0\n",
      "Class: Hepatitis C\t AUC-ROC Score: 1.0\n",
      "Class: Hepatitis D\t AUC-ROC Score: 1.0\n",
      "Class: Hepatitis E\t AUC-ROC Score: 1.0\n",
      "Class: Hypertension \t AUC-ROC Score: 1.0\n",
      "Class: Hyperthyroidism\t AUC-ROC Score: 1.0\n",
      "Class: Hypoglycemia\t AUC-ROC Score: 1.0\n",
      "Class: Hypothyroidism\t AUC-ROC Score: 1.0\n",
      "Class: Impetigo\t AUC-ROC Score: 1.0\n",
      "Class: Jaundice\t AUC-ROC Score: 1.0\n",
      "Class: Malaria\t AUC-ROC Score: 1.0\n",
      "Class: Migraine\t AUC-ROC Score: 1.0\n",
      "Class: Osteoarthristis\t AUC-ROC Score: 1.0\n",
      "Class: Paralysis (brain hemorrhage)\t AUC-ROC Score: 1.0\n",
      "Class: Peptic ulcer diseae\t AUC-ROC Score: 1.0\n",
      "Class: Pneumonia\t AUC-ROC Score: 1.0\n",
      "Class: Psoriasis\t AUC-ROC Score: 1.0\n",
      "Class: Tuberculosis\t AUC-ROC Score: 1.0\n",
      "Class: Typhoid\t AUC-ROC Score: 1.0\n",
      "Class: Urinary tract infection\t AUC-ROC Score: 1.0\n",
      "Class: Varicose veins\t AUC-ROC Score: 1.0\n",
      "Class: hepatitis A\t AUC-ROC Score: 1.0\n",
      "Average AUC-ROC Score: 1.0\n"
     ]
    }
   ],
   "source": [
    "import numpy as np\n",
    "import pandas as pd\n",
    "from sklearn.metrics import roc_auc_score\n",
    "from sklearn.preprocessing import LabelBinarizer\n",
    "from sklearn.multiclass import OneVsRestClassifier\n",
    "from sklearn.linear_model import LogisticRegression\n",
    "\n",
    "\n",
    "\n",
    "# Separate the symptoms and prognosis\n",
    "X = train_data.iloc[:, :-1]  # Assuming symptoms are in all columns except the last one\n",
    "y = train_data.iloc[:, -1]  # Assuming prognosis is in the last column\n",
    "\n",
    "\n",
    "\n",
    "# Convert multiclass prognosis into binary labels using one-hot encoding\n",
    "lb = LabelBinarizer()\n",
    "y_train_bin = lb.fit_transform(y_train)\n",
    "\n",
    "# Create a binary classifier using One-vs-Rest strategy\n",
    "classifier = OneVsRestClassifier(LogisticRegression())\n",
    "\n",
    "# Train the model\n",
    "classifier.fit(X_train, y_train_bin)\n",
    "\n",
    "# Predict probabilities for each class in the test set\n",
    "y_scores = classifier.predict_proba(X_test)\n",
    "\n",
    "# Compute the AUC-ROC score for each class\n",
    "auc_scores = roc_auc_score(lb.transform(y_test), y_scores, average=None)\n",
    "\n",
    "# Compute the average AUC-ROC score\n",
    "average_auc = np.mean(auc_scores)\n",
    "\n",
    "# Print the AUC-ROC score for each class and the average AUC-ROC score\n",
    "for i, class_label in enumerate(lb.classes_):\n",
    "    print(f\"Class: {class_label}\\t AUC-ROC Score: {auc_scores[i]}\")\n",
    "\n",
    "print(\"Average AUC-ROC Score:\", average_auc)\n"
   ]
  },
  {
   "cell_type": "markdown",
   "id": "8e84ea97",
   "metadata": {},
   "source": [
    "The AUC-ROC score is a performance metric used to evaluate the performance of a machine learning model for binary \n",
    "classification tasks. A perfect AUC-ROC score is 1.0, which indicates that the model has achieved perfect discrimination\n",
    "between the positive and negative classes.In the context you provided, each class represents a specific medical condition,\n",
    "such as AIDS, Acne, Arthritis, etc. The AUC-ROC score of 1.0 for each class suggests that the machine learning model used\n",
    "for classification has achieved perfect accuracy in distinguishing between individuals with that particular medical\n",
    "condition (positive class) and those without it (negative class).\n",
    "Additionally, the average AUC-ROC score of 1.0 indicates that the model has achieved perfect discrimination across all \n",
    "the classes mentioned. This implies that the model is highly accurate in classifying the different medical conditions\n",
    "based on the available input data.\n",
    "Overall, the AUC-ROC score of 1.0 signifies excellent performance, indicating that the model is highly effective in \n",
    "predicting the presence or absence of the mentioned medical conditions."
   ]
  },
  {
   "cell_type": "code",
   "execution_count": null,
   "id": "1002119f",
   "metadata": {},
   "outputs": [],
   "source": []
  }
 ],
 "metadata": {
  "kernelspec": {
   "display_name": "Python 3 (ipykernel)",
   "language": "python",
   "name": "python3"
  },
  "language_info": {
   "codemirror_mode": {
    "name": "ipython",
    "version": 3
   },
   "file_extension": ".py",
   "mimetype": "text/x-python",
   "name": "python",
   "nbconvert_exporter": "python",
   "pygments_lexer": "ipython3",
   "version": "3.10.9"
  }
 },
 "nbformat": 4,
 "nbformat_minor": 5
}
